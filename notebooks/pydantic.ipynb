{
 "cells": [
  {
   "cell_type": "code",
   "execution_count": 8,
   "id": "812ee881",
   "metadata": {},
   "outputs": [],
   "source": [
    "from pydantic import BaseModel, ValidationError\n",
    "from pydantic.config import ConfigDict\n",
    "\n",
    "class CCXTNetworkDTO(BaseModel):\n",
    "    id: str\n",
    "    precision: int  | None = None # намеренно строго\n",
    "    model_config = ConfigDict(extra=\"ignore\")\n",
    "\n",
    "\n",
    "class CCXTCurrencyDTO(BaseModel):\n",
    "    code: str\n",
    "    networks: dict[str, CCXTNetworkDTO] | None\n",
    "    model_config = ConfigDict(extra=\"ignore\")\n"
   ]
  },
  {
   "cell_type": "code",
   "execution_count": 9,
   "id": "9ddd3fa1",
   "metadata": {},
   "outputs": [],
   "source": [
    "asset_raw = {\n",
    "    \"code\": \"BTC\",\n",
    "    \"networks\": {\n",
    "        \"BTC\": {\n",
    "            \"id\": \"BTC\",\n",
    "            \"precision\": None,  # <-- тип сломан (int ожидается)\n",
    "            \"some_junk\": \"ignored\"\n",
    "        },\n",
    "        \"LIGHTNING\": {\n",
    "            \"id\": \"LIGHTNING\",\n",
    "            \"precision\": 8  # <-- это ок\n",
    "        }\n",
    "    }\n",
    "}\n"
   ]
  },
  {
   "cell_type": "code",
   "execution_count": 10,
   "id": "4ece2747",
   "metadata": {},
   "outputs": [
    {
     "name": "stdout",
     "output_type": "stream",
     "text": [
      "code='BTC' networks={'BTC': CCXTNetworkDTO(id='BTC', precision=None), 'LIGHTNING': CCXTNetworkDTO(id='LIGHTNING', precision=8)}\n"
     ]
    }
   ],
   "source": [
    "try:\n",
    "    currency = CCXTCurrencyDTO(**asset_raw)\n",
    "    print(currency)\n",
    "except ValidationError as e:\n",
    "    print(\"\\n🔥 Ошибка валидации:\")\n",
    "    print(e.errors())\n"
   ]
  }
 ],
 "metadata": {
  "kernelspec": {
   "display_name": "pauchai-scanner-py3.12 (3.12.3)",
   "language": "python",
   "name": "python3"
  },
  "language_info": {
   "codemirror_mode": {
    "name": "ipython",
    "version": 3
   },
   "file_extension": ".py",
   "mimetype": "text/x-python",
   "name": "python",
   "nbconvert_exporter": "python",
   "pygments_lexer": "ipython3",
   "version": "3.12.3"
  }
 },
 "nbformat": 4,
 "nbformat_minor": 5
}
